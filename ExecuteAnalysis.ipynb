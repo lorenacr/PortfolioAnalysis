{
 "cells": [
  {
   "cell_type": "code",
   "execution_count": 51,
   "id": "3dfab8d8-091e-4c01-9ba1-4640cbcdb959",
   "metadata": {},
   "outputs": [
    {
     "name": "stdout",
     "output_type": "stream",
     "text": [
      "Requirement already satisfied: PyMuPDF in c:\\programdata\\anaconda3\\lib\\site-packages (1.26.3)\n",
      "Requirement already satisfied: pandas in c:\\programdata\\anaconda3\\lib\\site-packages (2.2.2)\n",
      "Requirement already satisfied: numpy in c:\\programdata\\anaconda3\\lib\\site-packages (1.26.4)\n",
      "Requirement already satisfied: matplotlib in c:\\programdata\\anaconda3\\lib\\site-packages (3.9.2)\n",
      "Requirement already satisfied: seaborn in c:\\programdata\\anaconda3\\lib\\site-packages (0.13.2)\n",
      "Requirement already satisfied: tqdm in c:\\programdata\\anaconda3\\lib\\site-packages (4.66.5)\n",
      "Requirement already satisfied: python-dateutil>=2.8.2 in c:\\programdata\\anaconda3\\lib\\site-packages (from pandas) (2.9.0.post0)\n",
      "Requirement already satisfied: pytz>=2020.1 in c:\\programdata\\anaconda3\\lib\\site-packages (from pandas) (2024.1)\n",
      "Requirement already satisfied: tzdata>=2022.7 in c:\\programdata\\anaconda3\\lib\\site-packages (from pandas) (2023.3)\n",
      "Requirement already satisfied: contourpy>=1.0.1 in c:\\programdata\\anaconda3\\lib\\site-packages (from matplotlib) (1.2.0)\n",
      "Requirement already satisfied: cycler>=0.10 in c:\\programdata\\anaconda3\\lib\\site-packages (from matplotlib) (0.11.0)\n",
      "Requirement already satisfied: fonttools>=4.22.0 in c:\\programdata\\anaconda3\\lib\\site-packages (from matplotlib) (4.51.0)\n",
      "Requirement already satisfied: kiwisolver>=1.3.1 in c:\\programdata\\anaconda3\\lib\\site-packages (from matplotlib) (1.4.4)\n",
      "Requirement already satisfied: packaging>=20.0 in c:\\programdata\\anaconda3\\lib\\site-packages (from matplotlib) (24.1)\n",
      "Requirement already satisfied: pillow>=8 in c:\\programdata\\anaconda3\\lib\\site-packages (from matplotlib) (10.4.0)\n",
      "Requirement already satisfied: pyparsing>=2.3.1 in c:\\programdata\\anaconda3\\lib\\site-packages (from matplotlib) (3.1.2)\n",
      "Requirement already satisfied: colorama in c:\\programdata\\anaconda3\\lib\\site-packages (from tqdm) (0.4.6)\n",
      "Requirement already satisfied: six>=1.5 in c:\\programdata\\anaconda3\\lib\\site-packages (from python-dateutil>=2.8.2->pandas) (1.16.0)\n",
      "Note: you may need to restart the kernel to use updated packages.\n"
     ]
    }
   ],
   "source": [
    "%pip install PyMuPDF pandas numpy matplotlib seaborn tqdm"
   ]
  },
  {
   "cell_type": "code",
   "execution_count": 2,
   "id": "91911b82-64c5-47db-bf69-e5ea0ede52e6",
   "metadata": {},
   "outputs": [
    {
     "name": "stdout",
     "output_type": "stream",
     "text": [
      "🚀 INITIALIZING ENHANCED PORTFOLIO ANALYSIS ENGINE\n",
      "============================================================\n",
      "   📊 Normalization Method: robust_percentile\n",
      "   🎯 Scoring Method: topsis\n",
      "   🔧 Outlier Treatment: winsorize\n",
      "============================================================\n",
      "🚀 STARTING ENHANCED PORTFOLIO ANALYSIS ENGINE\n",
      "============================================================\n",
      "📁 Loading portfolios from: ./portfolios/\n",
      "📊 Loading portfolios: 100%|\u001b[32m██████████████████████████████████████████████████\u001b[0m| 1000/1000 [00:06<00:00, 156.61files/s] \u001b[0m\n",
      "📊 Analyzing portfolios: 100%|\u001b[31m██████████████████████████████████████████████\u001b[0m| 1000/1000 [01:33<00:00, 10.64portfolio/s]\u001b[0m\n",
      "📊 Normalizing:   2%|\u001b[34m█                                                          \u001b[0m| 17/1000 [00:00<00:01, 543.71metric/s]\u001b[0m\n",
      "\n",
      "✅ Analysis completed for 1000 portfolios\n",
      "📊 Generating comprehensive reports...\n",
      "   Total Portfolios Analyzed: 1000.0000\n",
      "   Average Sharpe Ratio: 0.5439\n",
      "   Average Max Drawdown: 0.5917\n",
      "   Best Performing Portfolio: Portfolio [46.148.476]\n",
      "   Highest Sharpe Ratio: 1.0000\n",
      "   Average Stability Score: 0.5088\n",
      "\n",
      "🏆 Top 5 Performers Analysis:\n",
      "-----------------------------------\n",
      "Top 5 portfolios by composite score:\n",
      "   # 1: Portfolio [46.148.476] (Score: 0.8584)\n",
      "   # 2: Portfolio [17.46.303] (Score: 0.8353)\n",
      "   # 3: Portfolio [105.148.476] (Score: 0.8344)\n",
      "   # 4: Portfolio [17.28.46] (Score: 0.8304)\n",
      "   # 5: Portfolio [17.46.220] (Score: 0.8292)\n",
      "💾 Top performers report saved to: ./results/portfolio_top_performers.csv\n",
      "💾 Results exported to ./results/portfolio_analysis_results.csv\n",
      "✅ All reports generated successfully\n"
     ]
    }
   ],
   "source": [
    "exec(open('main.py', encoding='utf-8').read())"
   ]
  },
  {
   "cell_type": "code",
   "execution_count": null,
   "id": "7ffdacae-bc6d-4d25-9e1e-978edba95c15",
   "metadata": {},
   "outputs": [],
   "source": []
  },
  {
   "cell_type": "code",
   "execution_count": null,
   "id": "dec649f6-3b04-4008-afb8-fbc2885802cd",
   "metadata": {},
   "outputs": [],
   "source": []
  }
 ],
 "metadata": {
  "kernelspec": {
   "display_name": "Python 3 (ipykernel)",
   "language": "python",
   "name": "python3"
  },
  "language_info": {
   "codemirror_mode": {
    "name": "ipython",
    "version": 3
   },
   "file_extension": ".py",
   "mimetype": "text/x-python",
   "name": "python",
   "nbconvert_exporter": "python",
   "pygments_lexer": "ipython3",
   "version": "3.12.7"
  }
 },
 "nbformat": 4,
 "nbformat_minor": 5
}
