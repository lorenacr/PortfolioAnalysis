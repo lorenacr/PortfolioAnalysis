{
 "cells": [
  {
   "cell_type": "code",
   "execution_count": 12,
   "id": "3dfab8d8-091e-4c01-9ba1-4640cbcdb959",
   "metadata": {},
   "outputs": [
    {
     "name": "stdout",
     "output_type": "stream",
     "text": [
      "Requirement already satisfied: PyMuPDF in c:\\programdata\\anaconda3\\lib\\site-packages (1.26.3)\n",
      "Note: you may need to restart the kernel to use updated packages.\n"
     ]
    }
   ],
   "source": [
    "%pip install PyMuPDF"
   ]
  },
  {
   "cell_type": "code",
   "execution_count": 43,
   "id": "91911b82-64c5-47db-bf69-e5ea0ede52e6",
   "metadata": {},
   "outputs": [],
   "source": [
    "exec(open('portfolio_quant_framework.py', encoding='utf-8').read())"
   ]
  },
  {
   "cell_type": "code",
   "execution_count": 44,
   "id": "1b071905-afb3-4d92-9dee-34a0b7811cb7",
   "metadata": {},
   "outputs": [
    {
     "name": "stdout",
     "output_type": "stream",
     "text": [
      "🔄 Batch analysis - processing PDFs...\n",
      "   • 591 PDF files found\n",
      "\n",
      "📊 Processing portfolios:\n",
      "📁 Processing: Portfolio [99.124.163].pd...: : 100%|████████████████████████████████████████| 591/591 [01:45<00:00,  5.62file/s]\n",
      "\n",
      "✅ 591/591 portfolios processed successfully\n",
      "📊 Success rate: 100.0%\n",
      "📊 Starting quantitative analysis...\n",
      "   • 591 loaded portfolios\n",
      "   • 5 metrics by portfolio\n",
      "💾 Results saved in: portfolio_analysis.csv\n",
      "🏆 Quantitative report - top portfolios\n",
      "============================================================\n",
      "📊 TOP 10 PORTFOLIOS:\n",
      " #               Portfolio  Score  CAGR  Sharpe  Win%   PF Max DD Tier\n",
      " 1  Portfolio [57.607.622]  0.936 8.33%    2.22 56.3% 1.57   $226    A\n",
      " 2 Portfolio [164.525.622]  0.920 7.78%    2.37 55.2% 1.57   $233    A\n",
      " 3 Portfolio [170.310.622]  0.918 8.54%    2.24 56.4% 1.64   $248    A\n",
      " 4  Portfolio [34.164.525]  0.910 7.72%    2.35 55.0% 1.56   $233    A\n",
      " 5 Portfolio [170.231.630]  0.900 8.06%    2.23 51.0% 1.61   $224    A\n",
      " 6 Portfolio [170.310.448]  0.896 7.73%    2.22 51.2% 1.70   $222    A\n",
      " 7 Portfolio [124.607.622]  0.895 8.32%    2.20 56.0% 1.56   $243    A\n",
      " 8  Portfolio [57.466.607]  0.894 8.03%    2.26 56.1% 1.55   $243    A\n",
      " 9   Portfolio [18.57.622]  0.891 8.43%    2.15 55.8% 1.54   $240    A\n",
      "10 Portfolio [170.310.581]  0.891 7.61%    2.11 49.7% 1.71   $205    A\n",
      "\n",
      "🥇 WINNER: Portfolio [57.607.622]\n",
      "   Quantitative Score: 0.936\n",
      "   CAGR: 8.3%\n",
      "   Sharpe: 2.22\n",
      "   Win Rate: 56.3%\n",
      "   Profit Factor: 1.57\n",
      "   Max Drawdown: $226\n",
      "   Institutional quality: 8/10\n"
     ]
    }
   ],
   "source": [
    "# Analyze all portfolios\n",
    "df_results = batch_analyze_portfolios('./portfolios/', 'portfolio_analysis.csv')"
   ]
  },
  {
   "cell_type": "code",
   "execution_count": null,
   "id": "19a96d1c-c1af-4a8e-818e-310831521ce8",
   "metadata": {},
   "outputs": [],
   "source": []
  },
  {
   "cell_type": "code",
   "execution_count": null,
   "id": "d6792971-87fd-4b7a-8a13-4bafcd653713",
   "metadata": {},
   "outputs": [],
   "source": []
  }
 ],
 "metadata": {
  "kernelspec": {
   "display_name": "Python 3 (ipykernel)",
   "language": "python",
   "name": "python3"
  },
  "language_info": {
   "codemirror_mode": {
    "name": "ipython",
    "version": 3
   },
   "file_extension": ".py",
   "mimetype": "text/x-python",
   "name": "python",
   "nbconvert_exporter": "python",
   "pygments_lexer": "ipython3",
   "version": "3.12.7"
  }
 },
 "nbformat": 4,
 "nbformat_minor": 5
}
